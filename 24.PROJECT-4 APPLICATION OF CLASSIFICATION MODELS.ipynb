{
 "cells": [
  {
   "cell_type": "markdown",
   "metadata": {},
   "source": [
    "# Mukesh Kumar Sanodiya (05-Apr-2019)"
   ]
  },
  {
   "cell_type": "markdown",
   "metadata": {},
   "source": [
    "# 24.PROJECT-4 APPLICATION OF CLASSIFICATION MODELS\n",
    "## Problem Statement\n",
    "This data was extracted from the census bureau database found at http://www.census.gov/ftp/pub/DES/www/welcome.html Donor: Ronny Kohavi and Barry Becker, Data Mining and Visualization Silicon Graphics. e-mail: ronnyk@sgi.com for questions. Split into train-test using MLC++ GenCVFiles (2/3, 1/3 random). 48842 instances, mix of continuous and discrete (train=32561, test=16281) 45222 if instances with unknown values are removed (train=30162, test=15060) Duplicate or conflicting instances : 6 Class probabilities for adult.all file Probability for the label '>50K' : 23.93% / 24.78% (without unknowns) Probability for the label '<=50K' : 76.07% / 75.22% (without unknowns) Extraction was done by Barry Becker from the 1994 Census database. A set of reasonably clean records was extracted using the following conditions: ((AAGE>16) && (AGI>100) && (AFNLWGT>1)&& (HRSWK>0)) Prediction task is to determine whether a person makes over 50K a year. Conversion of original data as follows:\n",
    "\n",
    "Discretized a gross income into two ranges with threshold 50,000. Convert U.S. to US to avoid periods. Convert Unknown to \"?\" Run MLC++ GenCVFiles to generate data,test. Description of fnlwgt (final weight) The weights on the CPS files are controlled to independent estimates of the civilian noninstitutional population of the US. These are prepared monthly for us by Population Division here at the Census Bureau. We use 3 sets of controls. These are: A single cell estimate of the population 16+ for each state. Controls for Hispanic Origin by age and sex. Controls by Race, age and sex. We use all three sets of controls in our weighting program and \"rake\" through them 6 times so that by the end we come back to all the controls we used. The term estimate refers to population totals derived from CPS by creating \"weighted tallies\" of any specified socio-economic characteristics of the population. People with similar demographic characteristics should have similar weights. There is one important caveat to remember about this statement. That is that since the CPS sample is actually a collection of 51 state samples, each with its own probability of selection, the statement only applies within state.\n",
    "\n",
    "## Dataset Link¶\n",
    "https://archive.ics.uci.edu/ml/machine-learning-databases/adult/"
   ]
  },
  {
   "cell_type": "code",
   "execution_count": 1,
   "metadata": {},
   "outputs": [],
   "source": [
    "import pandas as pd \n",
    "import matplotlib\n",
    "get_ipython().run_line_magic('matplotlib', 'inline')\n",
    "import numpy as np\n",
    "import scipy as sp\n",
    "import IPython\n",
    "from IPython import display\n",
    "import sklearn \n",
    "import random\n",
    "import time\n",
    "import matplotlib.pyplot as plt\n",
    "import warnings\n",
    "warnings.filterwarnings(\"ignore\")"
   ]
  },
  {
   "cell_type": "code",
   "execution_count": 22,
   "metadata": {},
   "outputs": [],
   "source": [
    "raw_train = pd.read_csv('adult.data', header=None, index_col = False, names = ['age','workclass','fnlwgt','education','education-num','marital-status','occupation','relationship','race','sex','capital-gain','capital-loss','hours-per-week','native-country','result'] )\n",
    "raw_test = pd.read_csv('adult.test', header=None, index_col = False, names = ['age','workclass','fnlwgt','education','education-num','marital-status','occupation','relationship','race','sex','capital-gain','capital-loss','hours-per-week','native-country','result'],skiprows=1)\n"
   ]
  },
  {
   "cell_type": "code",
   "execution_count": 23,
   "metadata": {},
   "outputs": [],
   "source": [
    "train = raw_train.copy(deep = True)\n",
    "test = raw_test.copy(deep = True)"
   ]
  },
  {
   "cell_type": "code",
   "execution_count": 24,
   "metadata": {},
   "outputs": [
    {
     "data": {
      "text/html": [
       "<div>\n",
       "<style scoped>\n",
       "    .dataframe tbody tr th:only-of-type {\n",
       "        vertical-align: middle;\n",
       "    }\n",
       "\n",
       "    .dataframe tbody tr th {\n",
       "        vertical-align: top;\n",
       "    }\n",
       "\n",
       "    .dataframe thead th {\n",
       "        text-align: right;\n",
       "    }\n",
       "</style>\n",
       "<table border=\"1\" class=\"dataframe\">\n",
       "  <thead>\n",
       "    <tr style=\"text-align: right;\">\n",
       "      <th></th>\n",
       "      <th>age</th>\n",
       "      <th>workclass</th>\n",
       "      <th>fnlwgt</th>\n",
       "      <th>education</th>\n",
       "      <th>education-num</th>\n",
       "      <th>marital-status</th>\n",
       "      <th>occupation</th>\n",
       "      <th>relationship</th>\n",
       "      <th>race</th>\n",
       "      <th>sex</th>\n",
       "      <th>capital-gain</th>\n",
       "      <th>capital-loss</th>\n",
       "      <th>hours-per-week</th>\n",
       "      <th>native-country</th>\n",
       "      <th>result</th>\n",
       "    </tr>\n",
       "  </thead>\n",
       "  <tbody>\n",
       "    <tr>\n",
       "      <th>0</th>\n",
       "      <td>39</td>\n",
       "      <td>State-gov</td>\n",
       "      <td>77516</td>\n",
       "      <td>Bachelors</td>\n",
       "      <td>13</td>\n",
       "      <td>Never-married</td>\n",
       "      <td>Adm-clerical</td>\n",
       "      <td>Not-in-family</td>\n",
       "      <td>White</td>\n",
       "      <td>Male</td>\n",
       "      <td>2174</td>\n",
       "      <td>0</td>\n",
       "      <td>40</td>\n",
       "      <td>United-States</td>\n",
       "      <td>&lt;=50K</td>\n",
       "    </tr>\n",
       "    <tr>\n",
       "      <th>1</th>\n",
       "      <td>50</td>\n",
       "      <td>Self-emp-not-inc</td>\n",
       "      <td>83311</td>\n",
       "      <td>Bachelors</td>\n",
       "      <td>13</td>\n",
       "      <td>Married-civ-spouse</td>\n",
       "      <td>Exec-managerial</td>\n",
       "      <td>Husband</td>\n",
       "      <td>White</td>\n",
       "      <td>Male</td>\n",
       "      <td>0</td>\n",
       "      <td>0</td>\n",
       "      <td>13</td>\n",
       "      <td>United-States</td>\n",
       "      <td>&lt;=50K</td>\n",
       "    </tr>\n",
       "    <tr>\n",
       "      <th>2</th>\n",
       "      <td>38</td>\n",
       "      <td>Private</td>\n",
       "      <td>215646</td>\n",
       "      <td>HS-grad</td>\n",
       "      <td>9</td>\n",
       "      <td>Divorced</td>\n",
       "      <td>Handlers-cleaners</td>\n",
       "      <td>Not-in-family</td>\n",
       "      <td>White</td>\n",
       "      <td>Male</td>\n",
       "      <td>0</td>\n",
       "      <td>0</td>\n",
       "      <td>40</td>\n",
       "      <td>United-States</td>\n",
       "      <td>&lt;=50K</td>\n",
       "    </tr>\n",
       "    <tr>\n",
       "      <th>3</th>\n",
       "      <td>53</td>\n",
       "      <td>Private</td>\n",
       "      <td>234721</td>\n",
       "      <td>11th</td>\n",
       "      <td>7</td>\n",
       "      <td>Married-civ-spouse</td>\n",
       "      <td>Handlers-cleaners</td>\n",
       "      <td>Husband</td>\n",
       "      <td>Black</td>\n",
       "      <td>Male</td>\n",
       "      <td>0</td>\n",
       "      <td>0</td>\n",
       "      <td>40</td>\n",
       "      <td>United-States</td>\n",
       "      <td>&lt;=50K</td>\n",
       "    </tr>\n",
       "    <tr>\n",
       "      <th>4</th>\n",
       "      <td>28</td>\n",
       "      <td>Private</td>\n",
       "      <td>338409</td>\n",
       "      <td>Bachelors</td>\n",
       "      <td>13</td>\n",
       "      <td>Married-civ-spouse</td>\n",
       "      <td>Prof-specialty</td>\n",
       "      <td>Wife</td>\n",
       "      <td>Black</td>\n",
       "      <td>Female</td>\n",
       "      <td>0</td>\n",
       "      <td>0</td>\n",
       "      <td>40</td>\n",
       "      <td>Cuba</td>\n",
       "      <td>&lt;=50K</td>\n",
       "    </tr>\n",
       "  </tbody>\n",
       "</table>\n",
       "</div>"
      ],
      "text/plain": [
       "   age          workclass  fnlwgt   education  education-num  \\\n",
       "0   39          State-gov   77516   Bachelors             13   \n",
       "1   50   Self-emp-not-inc   83311   Bachelors             13   \n",
       "2   38            Private  215646     HS-grad              9   \n",
       "3   53            Private  234721        11th              7   \n",
       "4   28            Private  338409   Bachelors             13   \n",
       "\n",
       "        marital-status          occupation    relationship    race      sex  \\\n",
       "0        Never-married        Adm-clerical   Not-in-family   White     Male   \n",
       "1   Married-civ-spouse     Exec-managerial         Husband   White     Male   \n",
       "2             Divorced   Handlers-cleaners   Not-in-family   White     Male   \n",
       "3   Married-civ-spouse   Handlers-cleaners         Husband   Black     Male   \n",
       "4   Married-civ-spouse      Prof-specialty            Wife   Black   Female   \n",
       "\n",
       "   capital-gain  capital-loss  hours-per-week  native-country  result  \n",
       "0          2174             0              40   United-States   <=50K  \n",
       "1             0             0              13   United-States   <=50K  \n",
       "2             0             0              40   United-States   <=50K  \n",
       "3             0             0              40   United-States   <=50K  \n",
       "4             0             0              40            Cuba   <=50K  "
      ]
     },
     "execution_count": 24,
     "metadata": {},
     "output_type": "execute_result"
    }
   ],
   "source": [
    "raw_train.head()"
   ]
  },
  {
   "cell_type": "code",
   "execution_count": 25,
   "metadata": {},
   "outputs": [
    {
     "data": {
      "text/html": [
       "<div>\n",
       "<style scoped>\n",
       "    .dataframe tbody tr th:only-of-type {\n",
       "        vertical-align: middle;\n",
       "    }\n",
       "\n",
       "    .dataframe tbody tr th {\n",
       "        vertical-align: top;\n",
       "    }\n",
       "\n",
       "    .dataframe thead th {\n",
       "        text-align: right;\n",
       "    }\n",
       "</style>\n",
       "<table border=\"1\" class=\"dataframe\">\n",
       "  <thead>\n",
       "    <tr style=\"text-align: right;\">\n",
       "      <th></th>\n",
       "      <th>age</th>\n",
       "      <th>workclass</th>\n",
       "      <th>fnlwgt</th>\n",
       "      <th>education</th>\n",
       "      <th>education-num</th>\n",
       "      <th>marital-status</th>\n",
       "      <th>occupation</th>\n",
       "      <th>relationship</th>\n",
       "      <th>race</th>\n",
       "      <th>sex</th>\n",
       "      <th>capital-gain</th>\n",
       "      <th>capital-loss</th>\n",
       "      <th>hours-per-week</th>\n",
       "      <th>native-country</th>\n",
       "      <th>result</th>\n",
       "    </tr>\n",
       "  </thead>\n",
       "  <tbody>\n",
       "    <tr>\n",
       "      <th>0</th>\n",
       "      <td>25</td>\n",
       "      <td>Private</td>\n",
       "      <td>226802</td>\n",
       "      <td>11th</td>\n",
       "      <td>7</td>\n",
       "      <td>Never-married</td>\n",
       "      <td>Machine-op-inspct</td>\n",
       "      <td>Own-child</td>\n",
       "      <td>Black</td>\n",
       "      <td>Male</td>\n",
       "      <td>0</td>\n",
       "      <td>0</td>\n",
       "      <td>40</td>\n",
       "      <td>United-States</td>\n",
       "      <td>&lt;=50K.</td>\n",
       "    </tr>\n",
       "    <tr>\n",
       "      <th>1</th>\n",
       "      <td>38</td>\n",
       "      <td>Private</td>\n",
       "      <td>89814</td>\n",
       "      <td>HS-grad</td>\n",
       "      <td>9</td>\n",
       "      <td>Married-civ-spouse</td>\n",
       "      <td>Farming-fishing</td>\n",
       "      <td>Husband</td>\n",
       "      <td>White</td>\n",
       "      <td>Male</td>\n",
       "      <td>0</td>\n",
       "      <td>0</td>\n",
       "      <td>50</td>\n",
       "      <td>United-States</td>\n",
       "      <td>&lt;=50K.</td>\n",
       "    </tr>\n",
       "    <tr>\n",
       "      <th>2</th>\n",
       "      <td>28</td>\n",
       "      <td>Local-gov</td>\n",
       "      <td>336951</td>\n",
       "      <td>Assoc-acdm</td>\n",
       "      <td>12</td>\n",
       "      <td>Married-civ-spouse</td>\n",
       "      <td>Protective-serv</td>\n",
       "      <td>Husband</td>\n",
       "      <td>White</td>\n",
       "      <td>Male</td>\n",
       "      <td>0</td>\n",
       "      <td>0</td>\n",
       "      <td>40</td>\n",
       "      <td>United-States</td>\n",
       "      <td>&gt;50K.</td>\n",
       "    </tr>\n",
       "    <tr>\n",
       "      <th>3</th>\n",
       "      <td>44</td>\n",
       "      <td>Private</td>\n",
       "      <td>160323</td>\n",
       "      <td>Some-college</td>\n",
       "      <td>10</td>\n",
       "      <td>Married-civ-spouse</td>\n",
       "      <td>Machine-op-inspct</td>\n",
       "      <td>Husband</td>\n",
       "      <td>Black</td>\n",
       "      <td>Male</td>\n",
       "      <td>7688</td>\n",
       "      <td>0</td>\n",
       "      <td>40</td>\n",
       "      <td>United-States</td>\n",
       "      <td>&gt;50K.</td>\n",
       "    </tr>\n",
       "    <tr>\n",
       "      <th>4</th>\n",
       "      <td>18</td>\n",
       "      <td>?</td>\n",
       "      <td>103497</td>\n",
       "      <td>Some-college</td>\n",
       "      <td>10</td>\n",
       "      <td>Never-married</td>\n",
       "      <td>?</td>\n",
       "      <td>Own-child</td>\n",
       "      <td>White</td>\n",
       "      <td>Female</td>\n",
       "      <td>0</td>\n",
       "      <td>0</td>\n",
       "      <td>30</td>\n",
       "      <td>United-States</td>\n",
       "      <td>&lt;=50K.</td>\n",
       "    </tr>\n",
       "  </tbody>\n",
       "</table>\n",
       "</div>"
      ],
      "text/plain": [
       "   age   workclass  fnlwgt      education  education-num       marital-status  \\\n",
       "0   25     Private  226802           11th              7        Never-married   \n",
       "1   38     Private   89814        HS-grad              9   Married-civ-spouse   \n",
       "2   28   Local-gov  336951     Assoc-acdm             12   Married-civ-spouse   \n",
       "3   44     Private  160323   Some-college             10   Married-civ-spouse   \n",
       "4   18           ?  103497   Some-college             10        Never-married   \n",
       "\n",
       "           occupation relationship    race      sex  capital-gain  \\\n",
       "0   Machine-op-inspct    Own-child   Black     Male             0   \n",
       "1     Farming-fishing      Husband   White     Male             0   \n",
       "2     Protective-serv      Husband   White     Male             0   \n",
       "3   Machine-op-inspct      Husband   Black     Male          7688   \n",
       "4                   ?    Own-child   White   Female             0   \n",
       "\n",
       "   capital-loss  hours-per-week  native-country   result  \n",
       "0             0              40   United-States   <=50K.  \n",
       "1             0              50   United-States   <=50K.  \n",
       "2             0              40   United-States    >50K.  \n",
       "3             0              40   United-States    >50K.  \n",
       "4             0              30   United-States   <=50K.  "
      ]
     },
     "execution_count": 25,
     "metadata": {},
     "output_type": "execute_result"
    }
   ],
   "source": [
    "raw_test.head()"
   ]
  },
  {
   "cell_type": "code",
   "execution_count": 26,
   "metadata": {},
   "outputs": [],
   "source": [
    "train['education'] = train['education'].map({' Bachelors':1, ' HS-grad':2, ' Masters':3, ' 9th':4, ' 11th':5, ' Some-college':6, ' Assoc-acdm':7, ' Assoc-voc':8, ' 7th-8th':9, ' Doctorate':10, ' Prof-school':12, ' 5th-6th':11, ' 10th':13, ' 1st-4th':14, ' Preschool':15, ' 12th':16}).astype(int)\n",
    "train['workclass'] = train['workclass'].map({' Private':4, ' Local-gov':7, ' Self-emp-not-inc':6, ' Federal-gov':8, ' State-gov':5, ' Self-emp-inc':9, ' Without-pay':1, ' Never-worked':2, ' ?':3}).astype(int)\n",
    "train['marital-status'] = train['marital-status'].map({' Never-married':1, ' Married-civ-spouse':2, ' Widowed':3, ' Divorced':4, ' Separated':5, ' Married-spouse-absent':6, ' Married-AF-spouse':7}).astype(int)\n",
    "train['relationship'] = train['relationship'].map({' Own-child':1, ' Husband':2, ' Not-in-family':3, ' Unmarried':4, ' Wife':5, ' Other-relative':6}).astype(int)\n",
    "train['race'] = train['race'].map({' Black':1, ' White':2, ' Asian-Pac-Islander':3, ' Amer-Indian-Eskimo':4, ' Other':5}).astype(int)\n",
    "train['sex'] = train['sex'].map({' Male':1, ' Female':2}).astype(int)\n",
    "train['occupation'] = train['occupation'].map({' Machine-op-inspct':1, ' Farming-fishing':2, ' Protective-serv':3, ' Other-service':4, ' Prof-specialty':5, ' Craft-repair':6, ' Adm-clerical':7, ' Exec-managerial':8, ' Tech-support':9, ' Sales':10, ' Priv-house-serv':11, ' Transport-moving':12, ' Handlers-cleaners':13, ' Armed-Forces':14, ' ?':15}).astype(int)\n",
    "train['result'] = train['result'].map({' <=50K':1, ' >50K':2}).astype(int)\n",
    "train['native-country'] = train['native-country'].map({' United-States':1, ' Cuba':2, ' Jamaica':3, ' India':4, ' ?':5, ' Mexico':6, ' South':7, ' Puerto-Rico':8, ' Honduras':9, ' England':10, ' Canada':11, ' Germany':12, ' Iran':13, ' Philippines':14, ' Italy':15, ' Poland':16, ' Columbia':17, ' Cambodia':18, ' Thailand':19, ' Ecuador':20, ' Laos':21, ' Taiwan':22, ' Haiti':23, ' Portugal':24, ' Dominican-Republic':25, ' El-Salvador':26, ' France':27, ' Guatemala':28, ' China':29, ' Japan':30, ' Yugoslavia':31, ' Peru':32, ' Outlying-US(Guam-USVI-etc)':33, ' Scotland':34, ' Trinadad&Tobago':35, ' Greece':36, ' Nicaragua':37, ' Vietnam':38, ' Hong':39, ' Ireland':40, ' Hungary':41, ' Holand-Netherlands':42}).astype(int) \n"
   ]
  },
  {
   "cell_type": "code",
   "execution_count": 27,
   "metadata": {},
   "outputs": [],
   "source": [
    "test['education'] = test['education'].map({' Bachelors':1, ' HS-grad':2, ' Masters':3, ' 9th':4, ' 11th':5, ' Some-college':6, ' Assoc-acdm':7, ' Assoc-voc':8, ' 7th-8th':9, ' Doctorate':10, ' Prof-school':12, ' 5th-6th':11, ' 10th':13, ' 1st-4th':14, ' Preschool':15, ' 12th':16}).astype(int)\n",
    "test['workclass'] = test['workclass'].map({' Private':4, ' Local-gov':7, ' Self-emp-not-inc':6, ' Federal-gov':8, ' State-gov':5, ' Self-emp-inc':9, ' Without-pay':1, ' Never-worked':2, ' ?':3}).astype(int)\n",
    "test['marital-status'] = test['marital-status'].map({' Never-married':1, ' Married-civ-spouse':2, ' Widowed':3, ' Divorced':4, ' Separated':5, ' Married-spouse-absent':6, ' Married-AF-spouse':7}).astype(int)\n",
    "test['relationship'] = test['relationship'].map({' Own-child':1, ' Husband':2, ' Not-in-family':3, ' Unmarried':4, ' Wife':5, ' Other-relative':6}).astype(int)\n",
    "test['race'] = test['race'].map({' Black':1, ' White':2, ' Asian-Pac-Islander':3, ' Amer-Indian-Eskimo':4, ' Other':5}).astype(int)\n",
    "test['sex'] = test['sex'].map({' Male':1, ' Female':2}).astype(int)\n",
    "test['occupation'] = test['occupation'].map({' Machine-op-inspct':1, ' Farming-fishing':2, ' Protective-serv':3, ' Other-service':4, ' Prof-specialty':5, ' Craft-repair':6, ' Adm-clerical':7, ' Exec-managerial':8, ' Tech-support':9, ' Sales':10, ' Priv-house-serv':11, ' Transport-moving':12, ' Handlers-cleaners':13, ' Armed-Forces':14, ' ?':15}).astype(int)\n",
    "test['result'] = test['result'].map({' <=50K.':1, ' >50K.':2}).astype(int)\n",
    "test['native-country'] = test['native-country'].map({' United-States':1, ' Cuba':2, ' Jamaica':3, ' India':4, ' ?':5, ' Mexico':6, ' South':7, ' Puerto-Rico':8, ' Honduras':9, ' England':10, ' Canada':11, ' Germany':12, ' Iran':13, ' Philippines':14, ' Italy':15, ' Poland':16, ' Columbia':17, ' Cambodia':18, ' Thailand':19, ' Ecuador':20, ' Laos':21, ' Taiwan':22, ' Haiti':23, ' Portugal':24, ' Dominican-Republic':25, ' El-Salvador':26, ' France':27, ' Guatemala':28, ' China':29, ' Japan':30, ' Yugoslavia':31, ' Peru':32, ' Outlying-US(Guam-USVI-etc)':33, ' Scotland':34, ' Trinadad&Tobago':35, ' Greece':36, ' Nicaragua':37, ' Vietnam':38, ' Hong':39, ' Ireland':40, ' Hungary':41}).astype(int) \n"
   ]
  },
  {
   "cell_type": "code",
   "execution_count": 28,
   "metadata": {},
   "outputs": [],
   "source": [
    "age = [train['result'][train['age'].between(0,20)].mean(),\n",
    "train['result'][train['age'].between(20,25)].mean(),\n",
    "train['result'][train['age'].between(25,30)].mean(),\n",
    "train['result'][train['age'].between(30,35)].mean(),\n",
    "train['result'][train['age'].between(35,40)].mean(),\n",
    "train['result'][train['age'].between(40,45)].mean(),\n",
    "train['result'][train['age'].between(45,50)].mean(),\n",
    "train['result'][train['age'].between(50,55)].mean(),\n",
    "train['result'][train['age'].between(55,60)].mean(),\n",
    "train['result'][train['age'].between(60,70)].mean(),\n",
    "train['result'][train['age'].between(70,120)].mean()]\n",
    "age_x = [18,22,27,33,38,42,47,53,57,65,80]"
   ]
  },
  {
   "cell_type": "code",
   "execution_count": 29,
   "metadata": {},
   "outputs": [
    {
     "name": "stdout",
     "output_type": "stream",
     "text": [
      "y=0.003899x+1.069675\n"
     ]
    },
    {
     "data": {
      "image/png": "[encoded data removed]",
      "text/plain": [
       "<matplotlib.figure.Figure at 0x7fd265fc2f28>"
      ]
     },
     "metadata": {},
     "output_type": "display_data"
    }
   ],
   "source": [
    "plt.plot(age_x, age, 'bo', ls = '-')\n",
    "z = np.polyfit(age_x, age,1)\n",
    "p = np.poly1d(z)\n",
    "plt.plot(age_x,p(age_x),\"r--\")\n",
    "print(\"y=%.6fx+%.6f\"%(z[0],z[1]))"
   ]
  },
  {
   "cell_type": "code",
   "execution_count": 30,
   "metadata": {},
   "outputs": [],
   "source": [
    "train['age'] = np.where(train['age'].between(0,30), 0, train['age'])\n",
    "train['age'] = np.where(train['age'].between(75,100), 0, train['age'])\n",
    "train['age'] = np.where(train['age'].between(30,40), 1, train['age'])\n",
    "train['age'] = np.where(train['age'].between(60,75), 1, train['age'])\n",
    "train['age'] = np.where(train['age'].between(40,60), 2, train['age'])\n",
    "test['age'] = np.where(test['age'].between(0,30), 0, test['age'])\n",
    "test['age'] = np.where(test['age'].between(75,100), 0, test['age'])\n",
    "test['age'] = np.where(test['age'].between(30,40), 1, test['age'])\n",
    "test['age'] = np.where(test['age'].between(60,75), 1, test['age'])\n",
    "test['age'] = np.where(test['age'].between(40,60), 2, test['age'])"
   ]
  },
  {
   "cell_type": "code",
   "execution_count": 31,
   "metadata": {},
   "outputs": [
    {
     "data": {
      "text/plain": [
       "[<matplotlib.lines.Line2D at 0x7fd265f75048>]"
      ]
     },
     "execution_count": 31,
     "metadata": {},
     "output_type": "execute_result"
    },
    {
     "data": {
      "image/png": "[encoded data removed]",
      "text/plain": [
       "<matplotlib.figure.Figure at 0x7fd2661fe6a0>"
      ]
     },
     "metadata": {},
     "output_type": "display_data"
    }
   ],
   "source": [
    "age = [train['result'][train['age'] == 0].mean(),\n",
    "train['result'][train['age'] == 1].mean(),\n",
    "train['result'][train['age'] == 2].mean()]\n",
    "age_x = [0,1,2]\n",
    "plt.plot(age_x, age, 'bo')"
   ]
  },
  {
   "cell_type": "code",
   "execution_count": null,
   "metadata": {},
   "outputs": [],
   "source": []
  },
  {
   "cell_type": "code",
   "execution_count": 32,
   "metadata": {},
   "outputs": [],
   "source": [
    "# 2b. Relatioship visualisation and grouping\n",
    "\n",
    "# In[11]:\n",
    "\n",
    "\n",
    "rel = [train['result'][train['relationship'] == 1].mean(),\n",
    "train['result'][train['relationship'] == 2].mean(),\n",
    "train['result'][train['relationship'] == 3].mean(),\n",
    "train['result'][train['relationship'] == 4].mean(),\n",
    "train['result'][train['relationship'] == 5].mean(),\n",
    "train['result'][train['relationship'] == 6].mean()]\n",
    "rel_x = [1,2,3,4,5,6]"
   ]
  },
  {
   "cell_type": "code",
   "execution_count": 33,
   "metadata": {},
   "outputs": [
    {
     "data": {
      "text/plain": [
       "[<matplotlib.lines.Line2D at 0x7fd265ecdda0>]"
      ]
     },
     "execution_count": 33,
     "metadata": {},
     "output_type": "execute_result"
    },
    {
     "data": {
      "image/png": "[encoded data removed]",
      "text/plain": [
       "<matplotlib.figure.Figure at 0x7fd265f0e518>"
      ]
     },
     "metadata": {},
     "output_type": "display_data"
    }
   ],
   "source": [
    "plt.plot(rel_x, rel, 'bo', ls = '-')"
   ]
  },
  {
   "cell_type": "code",
   "execution_count": 34,
   "metadata": {},
   "outputs": [],
   "source": [
    "train['relationship'].replace(to_replace = [1,3,4,6], value = 0, inplace = True)\n",
    "train['relationship'].replace(to_replace = [2,5], value = 1, inplace = True)\n",
    "test['relationship'].replace(to_replace = [1,3,4,6], value = 0, inplace = True)\n",
    "test['relationship'].replace(to_replace = [2,5], value = 1, inplace = True)"
   ]
  },
  {
   "cell_type": "code",
   "execution_count": 35,
   "metadata": {},
   "outputs": [
    {
     "data": {
      "text/plain": [
       "[<matplotlib.lines.Line2D at 0x7fd265e3b160>]"
      ]
     },
     "execution_count": 35,
     "metadata": {},
     "output_type": "execute_result"
    },
    {
     "data": {
      "image/png": "[encoded data removed]",
      "text/plain": [
       "<matplotlib.figure.Figure at 0x7fd265fe5c50>"
      ]
     },
     "metadata": {},
     "output_type": "display_data"
    }
   ],
   "source": [
    "rel = [train['result'][train['relationship'] == 0].mean(),\n",
    "train['result'][train['relationship'] == 1].mean()]\n",
    "rel_x = [0,1]\n",
    "plt.plot(rel_x, rel, 'bo')"
   ]
  },
  {
   "cell_type": "code",
   "execution_count": 36,
   "metadata": {},
   "outputs": [],
   "source": [
    "work = [train['result'][train['workclass'] == 1].mean(),\n",
    "train['result'][train['workclass'] == 2].mean(),\n",
    "train['result'][train['workclass'] == 3].mean(),\n",
    "train['result'][train['workclass'] == 4].mean(),\n",
    "train['result'][train['workclass'] == 5].mean(),\n",
    "train['result'][train['workclass'] == 6].mean(),\n",
    "train['result'][train['workclass'] == 7].mean(),\n",
    "train['result'][train['workclass'] == 8].mean(),\n",
    "train['result'][train['workclass'] == 9].mean()]\n",
    "work_x = [1,2,3,4,5,6,7,8,9]"
   ]
  },
  {
   "cell_type": "code",
   "execution_count": 37,
   "metadata": {},
   "outputs": [
    {
     "name": "stdout",
     "output_type": "stream",
     "text": [
      "y=0.063942x+0.915642\n"
     ]
    },
    {
     "data": {
      "image/png": "[encoded data removed]",
      "text/plain": [
       "<matplotlib.figure.Figure at 0x7fd265e89080>"
      ]
     },
     "metadata": {},
     "output_type": "display_data"
    }
   ],
   "source": [
    "plt.plot(work_x, work, 'bo', ls = '-', label = 'wiek')\n",
    "z = np.polyfit(work_x, work,1)\n",
    "p = np.poly1d(z)\n",
    "plt.plot(work_x,p(work_x),\"r--\")\n",
    "print(\"y=%.6fx+%.6f\"%(z[0],z[1]))"
   ]
  },
  {
   "cell_type": "code",
   "execution_count": 38,
   "metadata": {},
   "outputs": [],
   "source": [
    "train['workclass'].replace(to_replace = [1,2,3], value = 0, inplace = True)\n",
    "train['workclass'].replace(to_replace = [4,5,6,7], value = 1, inplace = True)\n",
    "test['workclass'].replace(to_replace = [1,2,3], value = 0, inplace = True)\n",
    "test['workclass'].replace(to_replace = [4,5,6,7], value = 1, inplace = True)"
   ]
  },
  {
   "cell_type": "code",
   "execution_count": 39,
   "metadata": {},
   "outputs": [
    {
     "name": "stdout",
     "output_type": "stream",
     "text": [
      "y=0.039753x+1.140910\n"
     ]
    },
    {
     "data": {
      "image/png": "[encoded data removed]",
      "text/plain": [
       "<matplotlib.figure.Figure at 0x7fd265dfc668>"
      ]
     },
     "metadata": {},
     "output_type": "display_data"
    }
   ],
   "source": [
    "work = [train['result'][train['workclass'] == 0].mean(),\n",
    "train['result'][train['workclass'] == 1].mean(),\n",
    "train['result'][train['workclass'] == 8].mean(),\n",
    "train['result'][train['workclass'] == 9].mean()]\n",
    "work_x = [0,1,8,9]\n",
    "plt.plot(work_x, work, 'bo', ls = '-')\n",
    "z = np.polyfit(work_x, work,1)\n",
    "p = np.poly1d(z)\n",
    "plt.plot(work_x,p(work_x),\"r--\")\n",
    "print(\"y=%.6fx+%.6f\"%(z[0],z[1]))"
   ]
  },
  {
   "cell_type": "code",
   "execution_count": 40,
   "metadata": {},
   "outputs": [],
   "source": [
    "edu = [train['result'][train['education-num'] == 1].mean(),\n",
    "train['result'][train['education-num'] == 2].mean(),\n",
    "train['result'][train['education-num'] == 3].mean(),\n",
    "train['result'][train['education-num'] == 4].mean(),\n",
    "train['result'][train['education-num'] == 5].mean(),\n",
    "train['result'][train['education-num'] == 6].mean(),\n",
    "train['result'][train['education-num'] == 7].mean(),\n",
    "train['result'][train['education-num'] == 8].mean(),\n",
    "train['result'][train['education-num'] == 9].mean(),\n",
    "train['result'][train['education-num'] == 10].mean(),\n",
    "train['result'][train['education-num'] == 11].mean(),\n",
    "train['result'][train['education-num'] == 12].mean(),\n",
    "train['result'][train['education-num'] == 13].mean(),\n",
    "train['result'][train['education-num'] == 14].mean(),\n",
    "train['result'][train['education-num'] == 15].mean(),\n",
    "train['result'][train['education-num'] == 16].mean()]\n",
    "edu_x = [1,2,3,4,5,6,7,8,9,10,11,12,13,14,15,16]"
   ]
  },
  {
   "cell_type": "code",
   "execution_count": 41,
   "metadata": {},
   "outputs": [
    {
     "name": "stdout",
     "output_type": "stream",
     "text": [
      "y=0.046781x+0.833478\n"
     ]
    },
    {
     "data": {
      "image/png": "[encoded data removed]",
      "text/plain": [
       "<matplotlib.figure.Figure at 0x7fd265e740b8>"
      ]
     },
     "metadata": {},
     "output_type": "display_data"
    }
   ],
   "source": [
    "plt.plot(edu_x, edu, 'bo', ls = '-')\n",
    "z = np.polyfit(edu_x, edu,1)\n",
    "p = np.poly1d(z)\n",
    "plt.plot(edu_x,p(edu_x),\"r--\")\n",
    "print(\"y=%.6fx+%.6f\"%(z[0],z[1]))"
   ]
  },
  {
   "cell_type": "code",
   "execution_count": 42,
   "metadata": {},
   "outputs": [],
   "source": [
    "train['education-num'].replace(to_replace = [1,2,3,4,5,6,7,8], value = 0, inplace = True)\n",
    "train['education-num'].replace(to_replace = [9,10,11,12], value = 1, inplace = True)\n",
    "train['education-num'].replace(to_replace = 16, value = 15, inplace = True)\n",
    "test['education-num'].replace(to_replace = [1,2,3,4,5,6,7,8], value = 0, inplace = True)\n",
    "test['education-num'].replace(to_replace = [9,10,11,12], value = 1, inplace = True)\n",
    "test['education-num'].replace(to_replace = 16, value = 15, inplace = True)"
   ]
  },
  {
   "cell_type": "code",
   "execution_count": 43,
   "metadata": {},
   "outputs": [
    {
     "data": {
      "text/plain": [
       "[<matplotlib.lines.Line2D at 0x7fd265f9fdd8>]"
      ]
     },
     "execution_count": 43,
     "metadata": {},
     "output_type": "execute_result"
    },
    {
     "data": {
      "image/png": "[encoded data removed]",
      "text/plain": [
       "<matplotlib.figure.Figure at 0x7fd265ebc390>"
      ]
     },
     "metadata": {},
     "output_type": "display_data"
    }
   ],
   "source": [
    "edu = [train['result'][train['education-num'] == 0].mean(),\n",
    "train['result'][train['education-num'] == 1].mean(),\n",
    "train['result'][train['education-num'] == 13].mean(),\n",
    "train['result'][train['education-num'] == 14].mean(),\n",
    "train['result'][train['education-num'] == 16].mean()]\n",
    "edu_x = [0,1,13,14,16]\n",
    "plt.plot(edu_x, edu, 'bo', ls = '-')"
   ]
  },
  {
   "cell_type": "code",
   "execution_count": 44,
   "metadata": {},
   "outputs": [],
   "source": [
    "# Martial status visualisation and grouping\n",
    "\n",
    "\n",
    "\n",
    "\n",
    "mar = [train['result'][train['marital-status'] == 1].mean(),\n",
    "train['result'][train['marital-status'] == 2].mean(),\n",
    "train['result'][train['marital-status'] == 3].mean(),\n",
    "train['result'][train['marital-status'] == 4].mean(),\n",
    "train['result'][train['marital-status'] == 5].mean(),\n",
    "train['result'][train['marital-status'] == 6].mean(),\n",
    "train['result'][train['marital-status'] == 7].mean()]\n",
    "mar_x = [1,2,3,4,5,6,7]"
   ]
  },
  {
   "cell_type": "code",
   "execution_count": 45,
   "metadata": {},
   "outputs": [
    {
     "data": {
      "text/plain": [
       "[<matplotlib.lines.Line2D at 0x7fd266233a58>]"
      ]
     },
     "execution_count": 45,
     "metadata": {},
     "output_type": "execute_result"
    },
    {
     "data": {
      "image/png": "[encoded data removed]",
      "text/plain": [
       "<matplotlib.figure.Figure at 0x7fd265e0a358>"
      ]
     },
     "metadata": {},
     "output_type": "display_data"
    }
   ],
   "source": [
    "\n",
    "plt.plot(mar_x, mar, 'bo', ls = '-')"
   ]
  },
  {
   "cell_type": "code",
   "execution_count": 46,
   "metadata": {},
   "outputs": [],
   "source": [
    "train['marital-status'].replace(to_replace = [1,3,4,5,6], value = 0, inplace = True)\n",
    "train['marital-status'].replace(to_replace = [2,7], value = 1, inplace = True)\n",
    "test['marital-status'].replace(to_replace = [1,3,4,5,6], value = 0, inplace = True)\n",
    "test['marital-status'].replace(to_replace = [2,7], value = 1, inplace = True)\n",
    "\n",
    "\n",
    "\n",
    "\n",
    "\n",
    "mar = [train['result'][train['marital-status'] == 0].mean(),\n",
    "train['result'][train['marital-status'] == 1].mean()]\n",
    "mar_x = [0,1]"
   ]
  },
  {
   "cell_type": "code",
   "execution_count": 47,
   "metadata": {},
   "outputs": [
    {
     "data": {
      "text/plain": [
       "[<matplotlib.lines.Line2D at 0x7fd265ff4208>]"
      ]
     },
     "execution_count": 47,
     "metadata": {},
     "output_type": "execute_result"
    },
    {
     "data": {
      "image/png": "[encoded data removed]",
      "text/plain": [
       "<matplotlib.figure.Figure at 0x7fd265d9a9b0>"
      ]
     },
     "metadata": {},
     "output_type": "display_data"
    }
   ],
   "source": [
    "plt.plot(mar_x, mar, 'bo')"
   ]
  },
  {
   "cell_type": "code",
   "execution_count": 48,
   "metadata": {},
   "outputs": [
    {
     "data": {
      "image/png": "[encoded data removed]",
      "text/plain": [
       "<matplotlib.figure.Figure at 0x7fd265fe5b70>"
      ]
     },
     "metadata": {},
     "output_type": "display_data"
    }
   ],
   "source": [
    "# Race visualisation and grouping\n",
    "\n",
    "\n",
    "\n",
    "race = [train['result'][train['race'] == 1].mean(),\n",
    "train['result'][train['race'] == 2].mean(),\n",
    "train['result'][train['race'] == 3].mean(),\n",
    "train['result'][train['race'] == 4].mean(),\n",
    "train['result'][train['race'] == 5].mean()]\n",
    "race_x = [1,2,3,4,5]\n",
    "plt.plot(race_x, race, 'bo', ls = '-')\n",
    "\n",
    "\n",
    "\n",
    "train['race'].replace(to_replace = [1,4,5], value = 0, inplace = True)\n",
    "train['race'].replace(to_replace = [2,3], value = 1, inplace = True)\n",
    "test['race'].replace(to_replace = [1,4,5], value = 0, inplace = True)\n",
    "test['race'].replace(to_replace = [2,3], value = 1, inplace = True)"
   ]
  },
  {
   "cell_type": "code",
   "execution_count": 49,
   "metadata": {},
   "outputs": [
    {
     "data": {
      "text/plain": [
       "[<matplotlib.lines.Line2D at 0x7fd265d06c50>]"
      ]
     },
     "execution_count": 49,
     "metadata": {},
     "output_type": "execute_result"
    },
    {
     "data": {
      "image/png": "[encoded data removed]",
      "text/plain": [
       "<matplotlib.figure.Figure at 0x7fd2661f8198>"
      ]
     },
     "metadata": {},
     "output_type": "display_data"
    }
   ],
   "source": [
    "race = [train['result'][train['race'] == 0].mean(),\n",
    "train['result'][train['race'] == 1].mean()]\n",
    "race_x = [0,1]\n",
    "plt.plot(race_x, race, 'bo', ls = '-')"
   ]
  },
  {
   "cell_type": "code",
   "execution_count": 52,
   "metadata": {},
   "outputs": [
    {
     "data": {
      "text/plain": [
       "[<matplotlib.lines.Line2D at 0x7fd265bb9cc0>]"
      ]
     },
     "execution_count": 52,
     "metadata": {},
     "output_type": "execute_result"
    },
    {
     "data": {
      "image/png": "[encoded data removed]",
      "text/plain": [
       "<matplotlib.figure.Figure at 0x7fd265d754a8>"
      ]
     },
     "metadata": {},
     "output_type": "display_data"
    }
   ],
   "source": [
    "# Sex visualisation and grouping\n",
    "\n",
    "\n",
    "sex = [train['result'][train['sex'] == 1].mean(),\n",
    "train['result'][train['sex'] == 2].mean()]\n",
    "sex_x = [2,1]\n",
    "plt.plot(sex_x, sex, 'bo')\n",
    "\n",
    "\n",
    "\n",
    "\n",
    "\n",
    "\n"
   ]
  },
  {
   "cell_type": "code",
   "execution_count": 53,
   "metadata": {},
   "outputs": [],
   "source": [
    "# 2h. Native country visualisation and grouping\n",
    "train['native-country'].replace(to_replace = [1,33], value = 0, inplace = True)\n",
    "train['native-country'].replace(to_replace = [2,3,4,5,6,7,8,9,14,17,18,19,20,21,22,23,25,26,28,29,31,32,35,36,37,38], value = 1, inplace = True)\n",
    "train['native-country'].replace(to_replace = [15,16,24,34,40,41], value = 2, inplace = True)\n",
    "train['native-country'].replace(to_replace = [10,11,12,13,27,30,39,42], value = 3, inplace = True)\n",
    "test['native-country'].replace(to_replace = [1,33], value = 0, inplace = True)\n",
    "test['native-country'].replace(to_replace = [2,3,4,5,6,7,8,9,14,17,18,19,20,21,22,23,25,26,28,29,31,32,35,36,37,38], value = 1, inplace = True)\n",
    "test['native-country'].replace(to_replace = [15,16,24,34,40,41], value = 2, inplace = True)\n",
    "test['native-country'].replace(to_replace = [10,11,12,13,27,30,39], value = 3, inplace = True)"
   ]
  },
  {
   "cell_type": "code",
   "execution_count": 54,
   "metadata": {},
   "outputs": [
    {
     "data": {
      "text/plain": [
       "[<matplotlib.lines.Line2D at 0x7fd265baa2b0>]"
      ]
     },
     "execution_count": 54,
     "metadata": {},
     "output_type": "execute_result"
    },
    {
     "data": {
      "image/png": "[encoded data removed]",
      "text/plain": [
       "<matplotlib.figure.Figure at 0x7fd265c07048>"
      ]
     },
     "metadata": {},
     "output_type": "display_data"
    }
   ],
   "source": [
    "nation = [train['result'][train['native-country'] == 0].mean(),\n",
    "train['result'][train['native-country'] == 1].mean(),\n",
    "train['result'][train['native-country'] == 2].mean(),\n",
    "train['result'][train['native-country'] == 3].mean()]\n",
    "nation_x = [0,1,2,3]\n",
    "plt.plot(nation_x, nation, 'bo')"
   ]
  },
  {
   "cell_type": "code",
   "execution_count": 55,
   "metadata": {},
   "outputs": [
    {
     "data": {
      "text/plain": [
       "[<matplotlib.lines.Line2D at 0x7fd265b0c8d0>]"
      ]
     },
     "execution_count": 55,
     "metadata": {},
     "output_type": "execute_result"
    },
    {
     "data": {
      "image/png": "[encoded data removed]",
      "text/plain": [
       "<matplotlib.figure.Figure at 0x7fd265b614e0>"
      ]
     },
     "metadata": {},
     "output_type": "display_data"
    }
   ],
   "source": [
    "# Occupation visualisation and grouping\n",
    "\n",
    "train['occupation'].replace(to_replace = 11, value = 14, inplace = True)\n",
    "\n",
    "test['occupation'].replace(to_replace = 11, value = 14, inplace = True)\n",
    "\n",
    "ocup = [train['result'][train['occupation'] == 1].mean(),\n",
    "train['result'][train['occupation'] == 2].mean(),\n",
    "train['result'][train['occupation'] == 3].mean(),\n",
    "train['result'][train['occupation'] == 4].mean(),\n",
    "train['result'][train['occupation'] == 5].mean(),\n",
    "train['result'][train['occupation'] == 6].mean(),\n",
    "train['result'][train['occupation'] == 7].mean(),\n",
    "train['result'][train['occupation'] == 8].mean(),\n",
    "train['result'][train['occupation'] == 9].mean(),\n",
    "train['result'][train['occupation'] == 10].mean(),\n",
    "train['result'][train['occupation'] == 12].mean(),\n",
    "train['result'][train['occupation'] == 13].mean(),\n",
    "train['result'][train['occupation'] == 14].mean(),\n",
    "train['result'][train['occupation'] == 15].mean()]\n",
    "ocup_x = [1,2,3,4,5,6,7,8,9,10,12,13,14,15]\n",
    "\n",
    "\n",
    "plt.plot(ocup_x, ocup, 'bo', ls = '-')"
   ]
  },
  {
   "cell_type": "code",
   "execution_count": 56,
   "metadata": {},
   "outputs": [
    {
     "data": {
      "text/plain": [
       "[<matplotlib.lines.Line2D at 0x7fd265ae9ac8>]"
      ]
     },
     "execution_count": 56,
     "metadata": {},
     "output_type": "execute_result"
    },
    {
     "data": {
      "image/png": "[encoded data removed]",
      "text/plain": [
       "<matplotlib.figure.Figure at 0x7fd265ebc518>"
      ]
     },
     "metadata": {},
     "output_type": "display_data"
    }
   ],
   "source": [
    "train['occupation'].replace(to_replace = [1,2,4,7,13,14,15], value = 0, inplace = True)\n",
    "test['occupation'].replace(to_replace = [1,2,4,7,13,14,15], value = 0, inplace = True)\n",
    "train['occupation'].replace(to_replace = [3,6,9,10,12], value = 1, inplace = True)\n",
    "test['occupation'].replace(to_replace = [3,6,9,10,12], value = 1, inplace = True)\n",
    "train['occupation'].replace(to_replace = [5,8], value = 2, inplace = True)\n",
    "test['occupation'].replace(to_replace = [5,8], value = 2, inplace = True)\n",
    "\n",
    "ocup = [train['result'][train['occupation'] == 0].mean(),\n",
    "train['result'][train['occupation'] == 1].mean(),\n",
    "train['result'][train['occupation'] == 2].mean()]\n",
    "ocup_x = [0,1,2]\n",
    "plt.plot(ocup_x, ocup, 'bo')"
   ]
  },
  {
   "cell_type": "code",
   "execution_count": 58,
   "metadata": {},
   "outputs": [],
   "source": [
    "# Hours per week visualisation and grouping\n",
    "\n",
    "train['hoursBIN'] = pd.cut(train['hours-per-week'],10)\n",
    "train[['hoursBIN','result']].groupby(train['hoursBIN'], as_index = True).mean()\n",
    "\n",
    "\n",
    "train.drop(['hoursBIN'], axis = 1, inplace = True)\n",
    "\n",
    "\n",
    "train['hours-per-week'] = np.where(train['hours-per-week'].between(0,30), 0, train['hours-per-week'])\n",
    "train['hours-per-week'] = np.where(train['hours-per-week'].between(30,40), 1, train['hours-per-week'])\n",
    "train['hours-per-week'] = np.where(train['hours-per-week'].between(90,100), 1, train['hours-per-week'])\n",
    "train['hours-per-week'] = np.where(train['hours-per-week'].between(40,90), 2, train['hours-per-week'])\n",
    "test['hours-per-week'] = np.where(test['hours-per-week'].between(0,30), 0, test['hours-per-week'])\n",
    "test['hours-per-week'] = np.where(test['hours-per-week'].between(30,40), 1, test['hours-per-week'])\n",
    "test['hours-per-week'] = np.where(test['hours-per-week'].between(90,100), 1, test['hours-per-week'])\n",
    "test['hours-per-week'] = np.where(test['hours-per-week'].between(40,90), 2, test['hours-per-week'])"
   ]
  },
  {
   "cell_type": "code",
   "execution_count": 59,
   "metadata": {},
   "outputs": [
    {
     "data": {
      "text/plain": [
       "[<matplotlib.lines.Line2D at 0x7fd265c5cbe0>]"
      ]
     },
     "execution_count": 59,
     "metadata": {},
     "output_type": "execute_result"
    },
    {
     "data": {
      "image/png": "[encoded data removed]",
      "text/plain": [
       "<matplotlib.figure.Figure at 0x7fd2661fef28>"
      ]
     },
     "metadata": {},
     "output_type": "display_data"
    }
   ],
   "source": [
    "hour = [train['result'][train['hours-per-week'] == 0].mean(),\n",
    "train['result'][train['hours-per-week'] == 1].mean(),\n",
    "train['result'][train['hours-per-week'] == 2].mean()]\n",
    "hour_x = [0,1,2]\n",
    "plt.plot(hour_x, hour, 'bo')"
   ]
  },
  {
   "cell_type": "code",
   "execution_count": 60,
   "metadata": {},
   "outputs": [],
   "source": [
    "\n",
    "# Capital gain visualisation and grouping\n",
    "\n",
    "train['capital-gain'] = np.where(train['capital-gain'].between(0,4000), 0, train['capital-gain'])\n",
    "train['capital-gain'] = np.where(train['capital-gain'].between(4000,8000), 1, train['capital-gain'])\n",
    "train['capital-gain'] = np.where(train['capital-gain'].between(8000,1000000), 2, train['capital-gain'])\n",
    "test['capital-gain'] = np.where(test['capital-gain'].between(0,4000), 0, test['capital-gain'])\n",
    "test['capital-gain'] = np.where(test['capital-gain'].between(4000,8000), 1, test['capital-gain'])\n",
    "test['capital-gain'] = np.where(test['capital-gain'].between(8000,1000000), 2, test['capital-gain'])"
   ]
  },
  {
   "cell_type": "code",
   "execution_count": 61,
   "metadata": {},
   "outputs": [
    {
     "data": {
      "text/plain": [
       "[<matplotlib.lines.Line2D at 0x7fd265ccd0f0>]"
      ]
     },
     "execution_count": 61,
     "metadata": {},
     "output_type": "execute_result"
    },
    {
     "data": {
      "image/png": "[encoded data removed]",
      "text/plain": [
       "<matplotlib.figure.Figure at 0x7fd265d2c7b8>"
      ]
     },
     "metadata": {},
     "output_type": "display_data"
    }
   ],
   "source": [
    "gain = [train['result'][train['capital-gain'] == 0].mean(),\n",
    "train['result'][train['capital-gain'] == 1].mean(),\n",
    "train['result'][train['capital-gain'] == 2].mean()]\n",
    "gain_x = [0,1,2]\n",
    "plt.plot(gain_x, gain, 'bo')"
   ]
  },
  {
   "cell_type": "code",
   "execution_count": 62,
   "metadata": {},
   "outputs": [],
   "source": [
    "# Capital loss visualisation and grouping\n",
    "\n",
    "train['capital-loss'] = np.where(train['capital-loss'].between(0,1400), 0, train['capital-loss'])\n",
    "train['capital-loss'] = np.where(train['capital-loss'].between(1400,2700), 1, train['capital-loss'])\n",
    "train['capital-loss'] = np.where(train['capital-loss'].between(2700,1000000), 2, train['capital-loss'])\n",
    "test['capital-loss'] = np.where(test['capital-loss'].between(0,1400), 0, test['capital-loss'])\n",
    "test['capital-loss'] = np.where(test['capital-loss'].between(1400,2700), 1, test['capital-loss'])\n",
    "test['capital-loss'] = np.where(test['capital-loss'].between(2700,1000000), 2, test['capital-loss'])"
   ]
  },
  {
   "cell_type": "code",
   "execution_count": 63,
   "metadata": {},
   "outputs": [
    {
     "data": {
      "text/plain": [
       "[<matplotlib.lines.Line2D at 0x7fd265f0e898>]"
      ]
     },
     "execution_count": 63,
     "metadata": {},
     "output_type": "execute_result"
    },
    {
     "data": {
      "image/png": "[encoded data removed]",
      "text/plain": [
       "<matplotlib.figure.Figure at 0x7fd265d46f60>"
      ]
     },
     "metadata": {},
     "output_type": "display_data"
    }
   ],
   "source": [
    "loss = [train['result'][train['capital-loss'] == 0].mean(),\n",
    "train['result'][train['capital-loss'] == 1].mean(),\n",
    "train['result'][train['capital-loss'] == 2].mean()]\n",
    "loss_x = [0,1,2]\n",
    "plt.plot(loss_x, loss, 'bo')"
   ]
  },
  {
   "cell_type": "code",
   "execution_count": 64,
   "metadata": {},
   "outputs": [],
   "source": [
    "# Preparing data for model\n",
    "\n",
    "trainY = train['result']\n",
    "testY = test['result']\n",
    "\n",
    "trainX = train.drop(['result'], axis = 1)\n",
    "testX = test.drop(['result'], axis = 1)"
   ]
  },
  {
   "cell_type": "code",
   "execution_count": 65,
   "metadata": {},
   "outputs": [],
   "source": [
    "trainX.drop(['fnlwgt'], axis = 1, inplace = True)\n",
    "testX.drop(['fnlwgt'], axis = 1, inplace = True)\n",
    "\n",
    "\n",
    "trainX.drop(['education'], axis = 1, inplace = True)\n"
   ]
  },
  {
   "cell_type": "code",
   "execution_count": 66,
   "metadata": {},
   "outputs": [],
   "source": [
    "testX.drop(['education'], axis = 1, inplace = True)"
   ]
  },
  {
   "cell_type": "code",
   "execution_count": 67,
   "metadata": {},
   "outputs": [],
   "source": [
    "#  To simplify model columns (race, sex and native country) are droped, as they don't have big influence. The range of mean result is between <1, 1.3>\n",
    "\n",
    "trainX.drop(['race'], axis = 1, inplace = True)\n",
    "trainX.drop(['native-country'], axis = 1, inplace = True)\n",
    "trainX.drop(['sex'], axis = 1, inplace = True)\n",
    "testX.drop(['race'], axis = 1, inplace = True)\n",
    "testX.drop(['native-country'], axis = 1, inplace = True)\n",
    "testX.drop(['sex'], axis = 1, inplace = True)"
   ]
  },
  {
   "cell_type": "code",
   "execution_count": 69,
   "metadata": {},
   "outputs": [],
   "source": [
    "#Common Model Algorithms\n",
    "from sklearn.linear_model import LogisticRegression\n",
    "from sklearn.svm import SVC, LinearSVC\n",
    "from sklearn.ensemble import RandomForestClassifier\n",
    "from sklearn.neighbors import KNeighborsClassifier\n",
    "from sklearn.naive_bayes import GaussianNB\n",
    "from sklearn.linear_model import Perceptron\n",
    "from sklearn.linear_model import SGDClassifier\n",
    "from sklearn.tree import DecisionTreeClassifier\n",
    "from sklearn.neighbors import KNeighborsClassifier\n",
    "from sklearn.model_selection import cross_val_score"
   ]
  },
  {
   "cell_type": "code",
   "execution_count": 73,
   "metadata": {},
   "outputs": [],
   "source": [
    "\n",
    "# # creating odd list of K for KNN\n",
    "# myList = list(range(1,50))\n",
    "\n",
    "# # subsetting just the odd ones\n",
    "# neighbors = list(range(1,50,2))\n",
    "\n",
    "# # empty list that will hold cv scores\n",
    "# cv_scores = []\n",
    "\n",
    "# # perform 10-fold cross validation\n",
    "# for k in neighbors:\n",
    "#     knn = KNeighborsClassifier(n_neighbors=k)\n",
    "#     scores = cross_val_score(knn, trainX, trainY, cv=10, scoring='f1')\n",
    "#     cv_scores.append(scores.mean())\n",
    "    \n",
    "# from sklearn.metrics import accuracy_score\n",
    "# # changing to misclassification error\n",
    "# MSE = [1 - x for x in cv_scores]\n",
    "\n",
    "# # determining best k\n",
    "# optimal_k = neighbors[MSE.index(min(MSE))]\n",
    "# print(\"The optimal number of neighbors is %d\" % optimal_k)"
   ]
  },
  {
   "cell_type": "code",
   "execution_count": null,
   "metadata": {},
   "outputs": [],
   "source": [
    "# # plot misclassification error vs k\n",
    "# plt.plot(neighbors, MSE)\n",
    "# plt.xlabel('Number of Neighbors K')\n",
    "# plt.ylabel('Misclassification Error')\n",
    "# plt.show()"
   ]
  },
  {
   "cell_type": "code",
   "execution_count": 71,
   "metadata": {},
   "outputs": [
    {
     "data": {
      "text/plain": [
       "85.58"
      ]
     },
     "execution_count": 71,
     "metadata": {},
     "output_type": "execute_result"
    }
   ],
   "source": [
    "reglog = LogisticRegression()\n",
    "reglog.fit(trainX, trainY)\n",
    "Y_predLR = reglog.predict(testX)\n",
    "acc_log = round(reglog.score(trainX, trainY) * 100, 2)\n",
    "acc_log\n",
    "\n",
    "knn = KNeighborsClassifier(n_neighbors = 25)\n",
    "knn.fit(trainX, trainY)\n",
    "Y_predKNN = knn.predict(testX)\n",
    "acc_knn = round(knn.score(trainX, trainY) * 100, 2)\n",
    "acc_knn\n",
    "\n",
    "gaussian = GaussianNB()\n",
    "gaussian.fit(trainX, trainY)\n",
    "Y_predG = gaussian.predict(testX)\n",
    "acc_gaussian = round(gaussian.score(trainX, trainY) * 100, 2)\n",
    "acc_gaussian\n",
    "\n",
    "perceptron = Perceptron()\n",
    "perceptron.fit(trainX, trainY)\n",
    "Y_predP = perceptron.predict(testX)\n",
    "acc_perceptron = round(perceptron.score(trainX, trainY) * 100, 2)\n",
    "acc_perceptron\n",
    "\n",
    "svc = SVC()\n",
    "svc.fit(trainX, trainY)\n",
    "Y_pred = svc.predict(testX)\n",
    "acc_svc = round(svc.score(trainX, trainY) * 100, 2)\n",
    "acc_svc\n",
    "\n",
    "linear_svc = LinearSVC()\n",
    "linear_svc.fit(trainX, trainY)\n",
    "Y_predLSVC = linear_svc.predict(testX)\n",
    "acc_linear_svc = round(linear_svc.score(trainX, trainY) * 100, 2)\n",
    "acc_linear_svc\n",
    "\n",
    "sgd = SGDClassifier()\n",
    "sgd.fit(trainX, trainY)\n",
    "Y_predSGD = sgd.predict(testX)\n",
    "acc_sgd = round(sgd.score(trainX, trainY) * 100, 2)\n",
    "acc_sgd\n",
    "\n",
    "decision_tree = DecisionTreeClassifier()\n",
    "decision_tree.fit(trainX, trainY)\n",
    "Y_predD = decision_tree.predict(testX)\n",
    "acc_decision_tree = round(decision_tree.score(trainX, trainY) * 100, 2)\n",
    "acc_decision_tree\n",
    "\n",
    "random_forest = RandomForestClassifier(n_estimators=400, max_features = 'sqrt', oob_score = True, n_jobs = -1)\n",
    "random_forest.fit(trainX, trainY)\n",
    "Y_predRF = random_forest.predict(testX)\n",
    "random_forest.score(trainX, trainY)\n",
    "acc_random_forest = round(random_forest.score(trainX, trainY) * 100, 2)\n",
    "acc_random_forest"
   ]
  },
  {
   "cell_type": "code",
   "execution_count": 72,
   "metadata": {},
   "outputs": [
    {
     "name": "stdout",
     "output_type": "stream",
     "text": [
      "LogisticRegression = 85.0\n",
      "KNeighborsClassifier = 85.08\n",
      "GaussianNB = 83.05\n",
      "Perceptron = 80.53\n",
      "LinearSVC = 84.76\n",
      "SVC = 85.11\n",
      "SGDClassifier = 80.51\n",
      "DecisionTreeClassifier = 85.58\n",
      "RandomForestClassifier = 85.58\n"
     ]
    }
   ],
   "source": [
    "print('LogisticRegression =', acc_log)\n",
    "print('KNeighborsClassifier =', acc_knn)\n",
    "print('GaussianNB =', acc_gaussian)\n",
    "print('Perceptron =', acc_perceptron)\n",
    "print('LinearSVC =', acc_linear_svc)\n",
    "print('SVC =', acc_svc)\n",
    "print('SGDClassifier =', acc_sgd)\n",
    "print('DecisionTreeClassifier =', acc_decision_tree)\n",
    "print('RandomForestClassifier =', acc_random_forest)"
   ]
  },
  {
   "cell_type": "code",
   "execution_count": null,
   "metadata": {},
   "outputs": [],
   "source": []
  }
 ],
 "metadata": {
  "kernelspec": {
   "display_name": "Python 3",
   "language": "python",
   "name": "python3"
  },
  "language_info": {
   "codemirror_mode": {
    "name": "ipython",
    "version": 3
   },
   "file_extension": ".py",
   "mimetype": "text/x-python",
   "name": "python",
   "nbconvert_exporter": "python",
   "pygments_lexer": "ipython3",
   "version": "3.7.1"
  }
 },
 "nbformat": 4,
 "nbformat_minor": 2
}
